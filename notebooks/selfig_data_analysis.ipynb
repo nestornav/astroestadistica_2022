{
 "cells": [
  {
   "cell_type": "code",
   "execution_count": 4,
   "id": "a09d93ac",
   "metadata": {},
   "outputs": [],
   "source": [
    "# Run this cell if you don't have the data\n",
    "import shutil\n",
    "import requests\n",
    "from tqdm import tqdm\n",
    "\n",
    "\n",
    "def download_data(url='http://astro.ft.uam.es/selgifs/data_challenge/SELGIFS_Data_Challenge.tgz',\n",
    "                 dump_path='../data/SELGIFS_Data_Challenge.tgz'):\n",
    "    url = url\n",
    "    dump_path = dump_path\n",
    "    \n",
    "    #download data from the provided url\n",
    "    raw_data = requests.get(url, stream=True)\n",
    "    file_size = int(raw_data.headers.get('Content-Length', 0))\n",
    "\n",
    "    with tqdm.wrapattr(raw_data.raw, 'read', total=file_size) as r_raw:\n",
    "        with open (dump_path, \"wb\") as f:\n",
    "            shutil.copyfileobj(r_raw, f)"
   ]
  },
  {
   "cell_type": "code",
   "execution_count": 5,
   "id": "f6647ab3",
   "metadata": {},
   "outputs": [
    {
     "name": "stderr",
     "output_type": "stream",
     "text": [
      "100%|███████████████████████████████████████████████████████████████████████████████████████████████████| 1.28G/1.28G [05:07<00:00, 4.45MB/s]\n"
     ]
    }
   ],
   "source": [
    "download_data()"
   ]
  },
  {
   "cell_type": "markdown",
   "id": "2c5c42ab",
   "metadata": {},
   "source": [
    "# Data analysis for SELGIFS data challange"
   ]
  },
  {
   "cell_type": "code",
   "execution_count": null,
   "id": "35081c23",
   "metadata": {},
   "outputs": [],
   "source": [
    "import pandas as pd\n",
    "import seaborn as sns"
   ]
  }
 ],
 "metadata": {
  "kernelspec": {
   "display_name": "Python 3 (ipykernel)",
   "language": "python",
   "name": "python3"
  },
  "language_info": {
   "codemirror_mode": {
    "name": "ipython",
    "version": 3
   },
   "file_extension": ".py",
   "mimetype": "text/x-python",
   "name": "python",
   "nbconvert_exporter": "python",
   "pygments_lexer": "ipython3",
   "version": "3.8.2"
  }
 },
 "nbformat": 4,
 "nbformat_minor": 5
}
