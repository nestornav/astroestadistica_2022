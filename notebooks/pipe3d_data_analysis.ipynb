{
 "cells": [
  {
   "cell_type": "markdown",
   "id": "a7894c71",
   "metadata": {},
   "source": [
    "# Data analysis for Pipe 3D, Integral Field Spectroscopy\n",
    "\n",
    "For further information related to the dataset please go to the project [README](https://github.com/nestornav/astroestadistica_2022)"
   ]
  },
  {
   "cell_type": "code",
   "execution_count": 1,
   "id": "06726fd1",
   "metadata": {},
   "outputs": [],
   "source": [
    "import re\n",
    "import pandas as pd\n",
    "import seaborn as sns\n",
    "import matplotlib.pyplot as plt\n",
    "\n",
    "from astropy.table import Table\n",
    "from astropy.io import fits"
   ]
  },
  {
   "cell_type": "markdown",
   "id": "04f52cdd",
   "metadata": {},
   "source": [
    "## 1. Importing the data\n",
    "\n",
    "The orginal files have at the first N rows the name of the columns per row. So I decide to remove them for all the csv files and create a custom column list per table. On the other hand I assigned suffix for the errors to avoid mix them even after the merging all the tables.\n",
    "\n",
    "\n",
    "### Context information\n",
    "* Table 8: contains data related to the integrated properties of the califa dr2 galaxies.\n",
    "* Table 9: contains data related to the average proporties of the califa dr2 galacies.\n",
    "* Table 10: contains data related to the califa dr2 galaxies at the effective radius.\n",
    "\n",
    "After the data importing, I will check the integrity of the data and take actions if it is needed.\n",
    "\n",
    "Due to there are several same names into the columns I'll add a sufix at the end of the repeated columns. For references:\n",
    "- ip = integrated properties (table 8).\n",
    "- avg = average properties (table 9).\n",
    "- er = efective radius (table 10)."
   ]
  },
  {
   "cell_type": "code",
   "execution_count": 2,
   "id": "0ccc3f7f",
   "metadata": {},
   "outputs": [],
   "source": [
    "cols_tab_8 = ['califa_name', 'id', 'ra_J2000', 'dec_J200', 'redshift', 'log(Mass/Msun)_ip',\n",
    "               'error_mm_ip', 'log(SFR/Msun/yr)_ip', 'error_sfr']\n",
    "\n",
    "cols_tab_9 = ['califa_name', 'log(age/yr)_ssp_avg', 'error_ay_avg','[Z/H]_ssp_avg', 'error_zh_avg',\n",
    "              'av_ssp_avg', 'error_avg', '12+log(O/H)_O3N2_avg', 'error_oh_avg', 'av_gas_mag_avg', 'error_mag_avg']\n",
    "\n",
    "cols_tab_10 = ['califa_name', 'log(age/yr)_ssp_er', 'error_ay_er','[Z/H]_ssp_er', 'error_zh_er',\n",
    "              'av_ssp_er', 'error_spp', '12+log(O/H)_O3N2_er', 'error_oh_er',\n",
    "              'av_gas(mag)_er', 'error_mag']"
   ]
  },
  {
   "cell_type": "code",
   "execution_count": 3,
   "id": "1538354d",
   "metadata": {},
   "outputs": [],
   "source": [
    "table8_path = '../data/pipe3d/DR2_Pipe3D_obj.tab.csv'\n",
    "table9_path = '../data/pipe3d/DR2_Pipe3D_mean.tab.csv'\n",
    "table10_path = '../data/pipe3d/DR2_Pipe3D_Re.tab.csv'\n",
    "\n",
    "df_tab_8 = pd.read_csv(table8_path, names=cols_tab_8, delimiter=',')\n",
    "df_tab_9 = pd.read_csv(table9_path, names=cols_tab_9, delimiter=';')\n",
    "df_tab_10 = pd.read_csv(table10_path, names=cols_tab_10, delimiter=';')"
   ]
  },
  {
   "cell_type": "code",
   "execution_count": 4,
   "id": "8f76dbcc",
   "metadata": {
    "scrolled": true
   },
   "outputs": [
    {
     "name": "stdout",
     "output_type": "stream",
     "text": [
      "Shape of Table 8, integrated properties of galaxies: (200, 9)\n",
      "Shape of Table 9, average properties of galaxies: (200, 11)\n",
      "Shape of Table 10, properties of galaxies at the effective radius: (200, 11)\n"
     ]
    }
   ],
   "source": [
    "print(f'Shape of Table 8, integrated properties of galaxies: {df_tab_8.shape}')\n",
    "print(f'Shape of Table 9, average properties of galaxies: {df_tab_9.shape}')\n",
    "print(f'Shape of Table 10, properties of galaxies at the effective radius: {df_tab_10.shape}')"
   ]
  },
  {
   "cell_type": "code",
   "execution_count": 5,
   "id": "071ff32d",
   "metadata": {},
   "outputs": [
    {
     "data": {
      "text/html": [
       "<div>\n",
       "<style scoped>\n",
       "    .dataframe tbody tr th:only-of-type {\n",
       "        vertical-align: middle;\n",
       "    }\n",
       "\n",
       "    .dataframe tbody tr th {\n",
       "        vertical-align: top;\n",
       "    }\n",
       "\n",
       "    .dataframe thead th {\n",
       "        text-align: right;\n",
       "    }\n",
       "</style>\n",
       "<table border=\"1\" class=\"dataframe\">\n",
       "  <thead>\n",
       "    <tr style=\"text-align: right;\">\n",
       "      <th></th>\n",
       "      <th>califa_name</th>\n",
       "      <th>id</th>\n",
       "      <th>ra_J2000</th>\n",
       "      <th>dec_J200</th>\n",
       "      <th>redshift</th>\n",
       "      <th>log(Mass/Msun)_ip</th>\n",
       "      <th>error_mm_ip</th>\n",
       "      <th>log(SFR/Msun/yr)_ip</th>\n",
       "      <th>error_sfr</th>\n",
       "    </tr>\n",
       "  </thead>\n",
       "  <tbody>\n",
       "    <tr>\n",
       "      <th>0</th>\n",
       "      <td>IC;5376;</td>\n",
       "      <td>001</td>\n",
       "      <td>00;:01:19.77</td>\n",
       "      <td>+34:31:32.52</td>\n",
       "      <td>0.0166</td>\n",
       "      <td>10.65</td>\n",
       "      <td>0.10</td>\n",
       "      <td>0.006</td>\n",
       "      <td>0.105</td>\n",
       "    </tr>\n",
       "    <tr>\n",
       "      <th>1</th>\n",
       "      <td>UG;C000;05</td>\n",
       "      <td>002</td>\n",
       "      <td>;00:03:05.63</td>\n",
       "      <td>-01:54:49.67</td>\n",
       "      <td>0.0240</td>\n",
       "      <td>11.16</td>\n",
       "      <td>0.08</td>\n",
       "      <td>0.867</td>\n",
       "      <td>0.066</td>\n",
       "    </tr>\n",
       "    <tr>\n",
       "      <th>2</th>\n",
       "      <td>NG;C781;9</td>\n",
       "      <td>003</td>\n",
       "      <td>0;0:04:24.50</td>\n",
       "      <td>+31:28:19.20</td>\n",
       "      <td>0.0165</td>\n",
       "      <td>10.61</td>\n",
       "      <td>0.08</td>\n",
       "      <td>0.412</td>\n",
       "      <td>0.067</td>\n",
       "    </tr>\n",
       "    <tr>\n",
       "      <th>3</th>\n",
       "      <td>IC;1528;</td>\n",
       "      <td>005</td>\n",
       "      <td>00;:05:05.37</td>\n",
       "      <td>-07:05:36.23</td>\n",
       "      <td>0.0125</td>\n",
       "      <td>10.54</td>\n",
       "      <td>0.11</td>\n",
       "      <td>0.197</td>\n",
       "      <td>0.064</td>\n",
       "    </tr>\n",
       "    <tr>\n",
       "      <th>4</th>\n",
       "      <td>UG;C000;36</td>\n",
       "      <td>007</td>\n",
       "      <td>;00:05:13.87</td>\n",
       "      <td>+06:46:19.20</td>\n",
       "      <td>0.0208</td>\n",
       "      <td>11.06</td>\n",
       "      <td>0.09</td>\n",
       "      <td>0.186</td>\n",
       "      <td>0.134</td>\n",
       "    </tr>\n",
       "  </tbody>\n",
       "</table>\n",
       "</div>"
      ],
      "text/plain": [
       "  califa_name   id      ra_J2000      dec_J200  redshift  log(Mass/Msun)_ip  \\\n",
       "0    IC;5376;  001  00;:01:19.77  +34:31:32.52    0.0166              10.65   \n",
       "1  UG;C000;05  002  ;00:03:05.63  -01:54:49.67    0.0240              11.16   \n",
       "2   NG;C781;9  003  0;0:04:24.50  +31:28:19.20    0.0165              10.61   \n",
       "3    IC;1528;  005  00;:05:05.37  -07:05:36.23    0.0125              10.54   \n",
       "4  UG;C000;36  007  ;00:05:13.87  +06:46:19.20    0.0208              11.06   \n",
       "\n",
       "   error_mm_ip  log(SFR/Msun/yr)_ip  error_sfr  \n",
       "0         0.10                0.006      0.105  \n",
       "1         0.08                0.867      0.066  \n",
       "2         0.08                0.412      0.067  \n",
       "3         0.11                0.197      0.064  \n",
       "4         0.09                0.186      0.134  "
      ]
     },
     "execution_count": 5,
     "metadata": {},
     "output_type": "execute_result"
    }
   ],
   "source": [
    "df_tab_8.head()"
   ]
  },
  {
   "cell_type": "code",
   "execution_count": 6,
   "id": "cb2b94f4",
   "metadata": {},
   "outputs": [
    {
     "name": "stdout",
     "output_type": "stream",
     "text": [
      "<class 'pandas.core.frame.DataFrame'>\n",
      "RangeIndex: 200 entries, 0 to 199\n",
      "Data columns (total 9 columns):\n",
      " #   Column               Non-Null Count  Dtype  \n",
      "---  ------               --------------  -----  \n",
      " 0   califa_name          200 non-null    object \n",
      " 1   id                   200 non-null    object \n",
      " 2   ra_J2000             200 non-null    object \n",
      " 3   dec_J200             200 non-null    object \n",
      " 4   redshift             200 non-null    float64\n",
      " 5   log(Mass/Msun)_ip    200 non-null    float64\n",
      " 6   error_mm_ip          200 non-null    float64\n",
      " 7   log(SFR/Msun/yr)_ip  200 non-null    float64\n",
      " 8   error_sfr            200 non-null    float64\n",
      "dtypes: float64(5), object(4)\n",
      "memory usage: 14.2+ KB\n"
     ]
    }
   ],
   "source": [
    "df_tab_8.info()"
   ]
  },
  {
   "cell_type": "code",
   "execution_count": 7,
   "id": "bec9b194",
   "metadata": {},
   "outputs": [
    {
     "data": {
      "text/html": [
       "<div>\n",
       "<style scoped>\n",
       "    .dataframe tbody tr th:only-of-type {\n",
       "        vertical-align: middle;\n",
       "    }\n",
       "\n",
       "    .dataframe tbody tr th {\n",
       "        vertical-align: top;\n",
       "    }\n",
       "\n",
       "    .dataframe thead th {\n",
       "        text-align: right;\n",
       "    }\n",
       "</style>\n",
       "<table border=\"1\" class=\"dataframe\">\n",
       "  <thead>\n",
       "    <tr style=\"text-align: right;\">\n",
       "      <th></th>\n",
       "      <th>califa_name</th>\n",
       "      <th>log(age/yr)_ssp_avg</th>\n",
       "      <th>error_ay_avg</th>\n",
       "      <th>[Z/H]_ssp_avg</th>\n",
       "      <th>error_zh_avg</th>\n",
       "      <th>av_ssp_avg</th>\n",
       "      <th>error_avg</th>\n",
       "      <th>12+log(O/H)_O3N2_avg</th>\n",
       "      <th>error_oh_avg</th>\n",
       "      <th>av_gas_mag_avg</th>\n",
       "      <th>error_mag_avg</th>\n",
       "    </tr>\n",
       "  </thead>\n",
       "  <tbody>\n",
       "    <tr>\n",
       "      <th>0</th>\n",
       "      <td>IC5376</td>\n",
       "      <td>8.99</td>\n",
       "      <td>0.51</td>\n",
       "      <td>-0.35</td>\n",
       "      <td>0.16</td>\n",
       "      <td>0.57</td>\n",
       "      <td>1.17</td>\n",
       "      <td>8.50</td>\n",
       "      <td>0.05</td>\n",
       "      <td>1.24</td>\n",
       "      <td>0.03</td>\n",
       "    </tr>\n",
       "    <tr>\n",
       "      <th>1</th>\n",
       "      <td>UGC00005</td>\n",
       "      <td>8.97</td>\n",
       "      <td>0.42</td>\n",
       "      <td>-0.31</td>\n",
       "      <td>0.13</td>\n",
       "      <td>0.26</td>\n",
       "      <td>0.83</td>\n",
       "      <td>8.54</td>\n",
       "      <td>0.06</td>\n",
       "      <td>1.30</td>\n",
       "      <td>0.04</td>\n",
       "    </tr>\n",
       "    <tr>\n",
       "      <th>2</th>\n",
       "      <td>NGC7819</td>\n",
       "      <td>8.68</td>\n",
       "      <td>0.45</td>\n",
       "      <td>-0.29</td>\n",
       "      <td>0.11</td>\n",
       "      <td>0.10</td>\n",
       "      <td>0.62</td>\n",
       "      <td>8.47</td>\n",
       "      <td>0.07</td>\n",
       "      <td>0.90</td>\n",
       "      <td>0.08</td>\n",
       "    </tr>\n",
       "    <tr>\n",
       "      <th>3</th>\n",
       "      <td>IC1528</td>\n",
       "      <td>8.75</td>\n",
       "      <td>0.54</td>\n",
       "      <td>-0.34</td>\n",
       "      <td>0.14</td>\n",
       "      <td>0.22</td>\n",
       "      <td>0.82</td>\n",
       "      <td>8.47</td>\n",
       "      <td>0.08</td>\n",
       "      <td>0.77</td>\n",
       "      <td>0.03</td>\n",
       "    </tr>\n",
       "    <tr>\n",
       "      <th>4</th>\n",
       "      <td>UGC00036</td>\n",
       "      <td>9.42</td>\n",
       "      <td>0.26</td>\n",
       "      <td>-0.17</td>\n",
       "      <td>0.12</td>\n",
       "      <td>0.10</td>\n",
       "      <td>0.69</td>\n",
       "      <td>8.52</td>\n",
       "      <td>0.06</td>\n",
       "      <td>1.33</td>\n",
       "      <td>0.09</td>\n",
       "    </tr>\n",
       "  </tbody>\n",
       "</table>\n",
       "</div>"
      ],
      "text/plain": [
       "  califa_name  log(age/yr)_ssp_avg  error_ay_avg  [Z/H]_ssp_avg  error_zh_avg  \\\n",
       "0      IC5376                 8.99          0.51          -0.35          0.16   \n",
       "1    UGC00005                 8.97          0.42          -0.31          0.13   \n",
       "2     NGC7819                 8.68          0.45          -0.29          0.11   \n",
       "3      IC1528                 8.75          0.54          -0.34          0.14   \n",
       "4    UGC00036                 9.42          0.26          -0.17          0.12   \n",
       "\n",
       "   av_ssp_avg  error_avg  12+log(O/H)_O3N2_avg  error_oh_avg  av_gas_mag_avg  \\\n",
       "0        0.57       1.17                  8.50          0.05            1.24   \n",
       "1        0.26       0.83                  8.54          0.06            1.30   \n",
       "2        0.10       0.62                  8.47          0.07            0.90   \n",
       "3        0.22       0.82                  8.47          0.08            0.77   \n",
       "4        0.10       0.69                  8.52          0.06            1.33   \n",
       "\n",
       "   error_mag_avg  \n",
       "0           0.03  \n",
       "1           0.04  \n",
       "2           0.08  \n",
       "3           0.03  \n",
       "4           0.09  "
      ]
     },
     "execution_count": 7,
     "metadata": {},
     "output_type": "execute_result"
    }
   ],
   "source": [
    "df_tab_9.head()"
   ]
  },
  {
   "cell_type": "code",
   "execution_count": 8,
   "id": "07f322dd",
   "metadata": {},
   "outputs": [
    {
     "name": "stdout",
     "output_type": "stream",
     "text": [
      "<class 'pandas.core.frame.DataFrame'>\n",
      "RangeIndex: 200 entries, 0 to 199\n",
      "Data columns (total 11 columns):\n",
      " #   Column                Non-Null Count  Dtype  \n",
      "---  ------                --------------  -----  \n",
      " 0   califa_name           200 non-null    object \n",
      " 1   log(age/yr)_ssp_avg   200 non-null    float64\n",
      " 2   error_ay_avg          200 non-null    float64\n",
      " 3   [Z/H]_ssp_avg         200 non-null    float64\n",
      " 4   error_zh_avg          200 non-null    float64\n",
      " 5   av_ssp_avg            200 non-null    float64\n",
      " 6   error_avg             200 non-null    float64\n",
      " 7   12+log(O/H)_O3N2_avg  168 non-null    float64\n",
      " 8   error_oh_avg          168 non-null    float64\n",
      " 9   av_gas_mag_avg        186 non-null    float64\n",
      " 10  error_mag_avg         186 non-null    float64\n",
      "dtypes: float64(10), object(1)\n",
      "memory usage: 17.3+ KB\n"
     ]
    }
   ],
   "source": [
    "df_tab_9.info()"
   ]
  },
  {
   "cell_type": "code",
   "execution_count": 9,
   "id": "5aed7261",
   "metadata": {},
   "outputs": [
    {
     "data": {
      "text/html": [
       "<div>\n",
       "<style scoped>\n",
       "    .dataframe tbody tr th:only-of-type {\n",
       "        vertical-align: middle;\n",
       "    }\n",
       "\n",
       "    .dataframe tbody tr th {\n",
       "        vertical-align: top;\n",
       "    }\n",
       "\n",
       "    .dataframe thead th {\n",
       "        text-align: right;\n",
       "    }\n",
       "</style>\n",
       "<table border=\"1\" class=\"dataframe\">\n",
       "  <thead>\n",
       "    <tr style=\"text-align: right;\">\n",
       "      <th></th>\n",
       "      <th>califa_name</th>\n",
       "      <th>log(age/yr)_ssp_er</th>\n",
       "      <th>error_ay_er</th>\n",
       "      <th>[Z/H]_ssp_er</th>\n",
       "      <th>error_zh_er</th>\n",
       "      <th>av_ssp_er</th>\n",
       "      <th>error_spp</th>\n",
       "      <th>12+log(O/H)_O3N2_er</th>\n",
       "      <th>error_oh_er</th>\n",
       "      <th>av_gas(mag)_er</th>\n",
       "      <th>error_mag</th>\n",
       "    </tr>\n",
       "  </thead>\n",
       "  <tbody>\n",
       "    <tr>\n",
       "      <th>0</th>\n",
       "      <td>IC5376</td>\n",
       "      <td>9.37</td>\n",
       "      <td>0.50</td>\n",
       "      <td>-0.44</td>\n",
       "      <td>0.13</td>\n",
       "      <td>0.48</td>\n",
       "      <td>0.11</td>\n",
       "      <td>8.53</td>\n",
       "      <td>0.04</td>\n",
       "      <td>1.34</td>\n",
       "      <td>0.21</td>\n",
       "    </tr>\n",
       "    <tr>\n",
       "      <th>1</th>\n",
       "      <td>UGC00005</td>\n",
       "      <td>9.18</td>\n",
       "      <td>0.28</td>\n",
       "      <td>-0.37</td>\n",
       "      <td>0.11</td>\n",
       "      <td>0.29</td>\n",
       "      <td>0.09</td>\n",
       "      <td>8.57</td>\n",
       "      <td>0.04</td>\n",
       "      <td>1.28</td>\n",
       "      <td>0.18</td>\n",
       "    </tr>\n",
       "    <tr>\n",
       "      <th>2</th>\n",
       "      <td>NGC7819</td>\n",
       "      <td>8.81</td>\n",
       "      <td>0.44</td>\n",
       "      <td>-0.28</td>\n",
       "      <td>0.14</td>\n",
       "      <td>0.06</td>\n",
       "      <td>0.06</td>\n",
       "      <td>8.47</td>\n",
       "      <td>0.07</td>\n",
       "      <td>0.82</td>\n",
       "      <td>0.17</td>\n",
       "    </tr>\n",
       "    <tr>\n",
       "      <th>3</th>\n",
       "      <td>IC1528</td>\n",
       "      <td>9.03</td>\n",
       "      <td>0.31</td>\n",
       "      <td>-0.41</td>\n",
       "      <td>0.14</td>\n",
       "      <td>0.19</td>\n",
       "      <td>0.10</td>\n",
       "      <td>8.51</td>\n",
       "      <td>0.04</td>\n",
       "      <td>0.77</td>\n",
       "      <td>0.14</td>\n",
       "    </tr>\n",
       "    <tr>\n",
       "      <th>4</th>\n",
       "      <td>UGC00036</td>\n",
       "      <td>9.56</td>\n",
       "      <td>0.44</td>\n",
       "      <td>-0.24</td>\n",
       "      <td>0.15</td>\n",
       "      <td>0.10</td>\n",
       "      <td>0.06</td>\n",
       "      <td>8.53</td>\n",
       "      <td>0.05</td>\n",
       "      <td>1.22</td>\n",
       "      <td>0.25</td>\n",
       "    </tr>\n",
       "  </tbody>\n",
       "</table>\n",
       "</div>"
      ],
      "text/plain": [
       "  califa_name  log(age/yr)_ssp_er  error_ay_er  [Z/H]_ssp_er  error_zh_er  \\\n",
       "0      IC5376                9.37         0.50         -0.44         0.13   \n",
       "1    UGC00005                9.18         0.28         -0.37         0.11   \n",
       "2     NGC7819                8.81         0.44         -0.28         0.14   \n",
       "3      IC1528                9.03         0.31         -0.41         0.14   \n",
       "4    UGC00036                9.56         0.44         -0.24         0.15   \n",
       "\n",
       "  av_ssp_er  error_spp  12+log(O/H)_O3N2_er  error_oh_er  av_gas(mag)_er  \\\n",
       "0      0.48       0.11                 8.53         0.04            1.34   \n",
       "1      0.29       0.09                 8.57         0.04            1.28   \n",
       "2      0.06       0.06                 8.47         0.07            0.82   \n",
       "3      0.19       0.10                 8.51         0.04            0.77   \n",
       "4      0.10       0.06                 8.53         0.05            1.22   \n",
       "\n",
       "   error_mag  \n",
       "0       0.21  \n",
       "1       0.18  \n",
       "2       0.17  \n",
       "3       0.14  \n",
       "4       0.25  "
      ]
     },
     "execution_count": 9,
     "metadata": {},
     "output_type": "execute_result"
    }
   ],
   "source": [
    "df_tab_10.head()"
   ]
  },
  {
   "cell_type": "code",
   "execution_count": 10,
   "id": "54e8f935",
   "metadata": {},
   "outputs": [
    {
     "name": "stdout",
     "output_type": "stream",
     "text": [
      "<class 'pandas.core.frame.DataFrame'>\n",
      "RangeIndex: 200 entries, 0 to 199\n",
      "Data columns (total 11 columns):\n",
      " #   Column               Non-Null Count  Dtype  \n",
      "---  ------               --------------  -----  \n",
      " 0   califa_name          200 non-null    object \n",
      " 1   log(age/yr)_ssp_er   200 non-null    float64\n",
      " 2   error_ay_er          200 non-null    float64\n",
      " 3   [Z/H]_ssp_er         200 non-null    float64\n",
      " 4   error_zh_er          200 non-null    float64\n",
      " 5   av_ssp_er            200 non-null    object \n",
      " 6   error_spp            200 non-null    float64\n",
      " 7   12+log(O/H)_O3N2_er  156 non-null    float64\n",
      " 8   error_oh_er          156 non-null    float64\n",
      " 9   av_gas(mag)_er       162 non-null    float64\n",
      " 10  error_mag            162 non-null    float64\n",
      "dtypes: float64(9), object(2)\n",
      "memory usage: 17.3+ KB\n"
     ]
    }
   ],
   "source": [
    "df_tab_10.info()"
   ]
  },
  {
   "cell_type": "markdown",
   "id": "6a1949ac",
   "metadata": {},
   "source": [
    "For all the imports I needed to set up the delimiter parameter to a right import. After  check the data I realized that table 8 (integrated proporties) has several in the data. In that case, the solution was change the delimiter.\n",
    "\n",
    "On the other hand table 8 has errors in columns such as califa_name and RA_J2000. So I need to perform some actions to get a good data quality. Finally the left table were imported right and didn't show errors in the values.\n",
    "\n",
    "Tables 9 and 10 have several null values for some features. This situation will be tackle in the data preparation step."
   ]
  },
  {
   "cell_type": "markdown",
   "id": "05611c71",
   "metadata": {},
   "source": [
    "## 2. Data preparation\n",
    "\n",
    "The main idea of this step is provide a dataset to start working on the assgiment."
   ]
  },
  {
   "cell_type": "markdown",
   "id": "1051e943",
   "metadata": {},
   "source": [
    "### 2.1 Clean up dirty column values"
   ]
  },
  {
   "cell_type": "code",
   "execution_count": 11,
   "id": "623ee484",
   "metadata": {},
   "outputs": [],
   "source": [
    "rule = r'[^\\w\\s]'\n",
    "df_tab_8['califa_name'] = df_tab_8['califa_name'].apply(lambda x: re.sub(rule,'',x))\n",
    "df_tab_8['ra_J2000'] = df_tab_8['ra_J2000'].apply(lambda x: x.replace(';', ''))"
   ]
  },
  {
   "cell_type": "code",
   "execution_count": 12,
   "id": "941cad33",
   "metadata": {},
   "outputs": [
    {
     "data": {
      "text/html": [
       "<div>\n",
       "<style scoped>\n",
       "    .dataframe tbody tr th:only-of-type {\n",
       "        vertical-align: middle;\n",
       "    }\n",
       "\n",
       "    .dataframe tbody tr th {\n",
       "        vertical-align: top;\n",
       "    }\n",
       "\n",
       "    .dataframe thead th {\n",
       "        text-align: right;\n",
       "    }\n",
       "</style>\n",
       "<table border=\"1\" class=\"dataframe\">\n",
       "  <thead>\n",
       "    <tr style=\"text-align: right;\">\n",
       "      <th></th>\n",
       "      <th>califa_name</th>\n",
       "      <th>id</th>\n",
       "      <th>ra_J2000</th>\n",
       "      <th>dec_J200</th>\n",
       "      <th>redshift</th>\n",
       "      <th>log(Mass/Msun)_ip</th>\n",
       "      <th>error_mm_ip</th>\n",
       "      <th>log(SFR/Msun/yr)_ip</th>\n",
       "      <th>error_sfr</th>\n",
       "    </tr>\n",
       "  </thead>\n",
       "  <tbody>\n",
       "    <tr>\n",
       "      <th>0</th>\n",
       "      <td>IC5376</td>\n",
       "      <td>001</td>\n",
       "      <td>00:01:19.77</td>\n",
       "      <td>+34:31:32.52</td>\n",
       "      <td>0.0166</td>\n",
       "      <td>10.65</td>\n",
       "      <td>0.10</td>\n",
       "      <td>0.006</td>\n",
       "      <td>0.105</td>\n",
       "    </tr>\n",
       "    <tr>\n",
       "      <th>1</th>\n",
       "      <td>UGC00005</td>\n",
       "      <td>002</td>\n",
       "      <td>00:03:05.63</td>\n",
       "      <td>-01:54:49.67</td>\n",
       "      <td>0.0240</td>\n",
       "      <td>11.16</td>\n",
       "      <td>0.08</td>\n",
       "      <td>0.867</td>\n",
       "      <td>0.066</td>\n",
       "    </tr>\n",
       "    <tr>\n",
       "      <th>2</th>\n",
       "      <td>NGC7819</td>\n",
       "      <td>003</td>\n",
       "      <td>00:04:24.50</td>\n",
       "      <td>+31:28:19.20</td>\n",
       "      <td>0.0165</td>\n",
       "      <td>10.61</td>\n",
       "      <td>0.08</td>\n",
       "      <td>0.412</td>\n",
       "      <td>0.067</td>\n",
       "    </tr>\n",
       "    <tr>\n",
       "      <th>3</th>\n",
       "      <td>IC1528</td>\n",
       "      <td>005</td>\n",
       "      <td>00:05:05.37</td>\n",
       "      <td>-07:05:36.23</td>\n",
       "      <td>0.0125</td>\n",
       "      <td>10.54</td>\n",
       "      <td>0.11</td>\n",
       "      <td>0.197</td>\n",
       "      <td>0.064</td>\n",
       "    </tr>\n",
       "    <tr>\n",
       "      <th>4</th>\n",
       "      <td>UGC00036</td>\n",
       "      <td>007</td>\n",
       "      <td>00:05:13.87</td>\n",
       "      <td>+06:46:19.20</td>\n",
       "      <td>0.0208</td>\n",
       "      <td>11.06</td>\n",
       "      <td>0.09</td>\n",
       "      <td>0.186</td>\n",
       "      <td>0.134</td>\n",
       "    </tr>\n",
       "  </tbody>\n",
       "</table>\n",
       "</div>"
      ],
      "text/plain": [
       "  califa_name   id     ra_J2000      dec_J200  redshift  log(Mass/Msun)_ip  \\\n",
       "0      IC5376  001  00:01:19.77  +34:31:32.52    0.0166              10.65   \n",
       "1    UGC00005  002  00:03:05.63  -01:54:49.67    0.0240              11.16   \n",
       "2     NGC7819  003  00:04:24.50  +31:28:19.20    0.0165              10.61   \n",
       "3      IC1528  005  00:05:05.37  -07:05:36.23    0.0125              10.54   \n",
       "4    UGC00036  007  00:05:13.87  +06:46:19.20    0.0208              11.06   \n",
       "\n",
       "   error_mm_ip  log(SFR/Msun/yr)_ip  error_sfr  \n",
       "0         0.10                0.006      0.105  \n",
       "1         0.08                0.867      0.066  \n",
       "2         0.08                0.412      0.067  \n",
       "3         0.11                0.197      0.064  \n",
       "4         0.09                0.186      0.134  "
      ]
     },
     "execution_count": 12,
     "metadata": {},
     "output_type": "execute_result"
    }
   ],
   "source": [
    "df_tab_8.head()"
   ]
  },
  {
   "cell_type": "code",
   "execution_count": 13,
   "id": "a1dfa3e7",
   "metadata": {},
   "outputs": [
    {
     "data": {
      "text/plain": [
       "califa_name             0.00\n",
       "log(age/yr)_ssp_avg     0.00\n",
       "error_ay_avg            0.00\n",
       "[Z/H]_ssp_avg           0.00\n",
       "error_zh_avg            0.00\n",
       "av_ssp_avg              0.00\n",
       "error_avg               0.00\n",
       "12+log(O/H)_O3N2_avg    0.16\n",
       "error_oh_avg            0.16\n",
       "av_gas_mag_avg          0.07\n",
       "error_mag_avg           0.07\n",
       "dtype: float64"
      ]
     },
     "execution_count": 13,
     "metadata": {},
     "output_type": "execute_result"
    }
   ],
   "source": [
    "df_tab_9.isna().sum() / len(df_tab_9)"
   ]
  },
  {
   "cell_type": "code",
   "execution_count": 14,
   "id": "304486eb",
   "metadata": {},
   "outputs": [
    {
     "data": {
      "text/plain": [
       "(200, 11)"
      ]
     },
     "execution_count": 14,
     "metadata": {},
     "output_type": "execute_result"
    }
   ],
   "source": [
    "df_tab_9.shape"
   ]
  },
  {
   "cell_type": "code",
   "execution_count": 15,
   "id": "c222052b",
   "metadata": {},
   "outputs": [
    {
     "data": {
      "text/plain": [
       "califa_name            0.00\n",
       "log(age/yr)_ssp_er     0.00\n",
       "error_ay_er            0.00\n",
       "[Z/H]_ssp_er           0.00\n",
       "error_zh_er            0.00\n",
       "av_ssp_integrated      0.00\n",
       "error_spp              0.00\n",
       "12+log(O/H)_O3N2_er    0.22\n",
       "error_oh_er            0.22\n",
       "av_gas(mag)_er         0.19\n",
       "error_mag              0.19\n",
       "dtype: float64"
      ]
     },
     "execution_count": 15,
     "metadata": {},
     "output_type": "execute_result"
    }
   ],
   "source": [
    "df_tab_10.isna().sum() / len(df_tab_10)"
   ]
  },
  {
   "cell_type": "markdown",
   "id": "d99a42e2",
   "metadata": {},
   "source": [
    "### 2.1 Merging the DFs"
   ]
  },
  {
   "cell_type": "code",
   "execution_count": 14,
   "id": "0c07a8bf",
   "metadata": {},
   "outputs": [],
   "source": [
    "df = df_tab_8.merge(df_tab_9, on='califa_name', how='left').merge(df_tab_10, on='califa_name', how='left')"
   ]
  },
  {
   "cell_type": "code",
   "execution_count": 15,
   "id": "ca309f5e",
   "metadata": {},
   "outputs": [
    {
     "data": {
      "text/html": [
       "<div>\n",
       "<style scoped>\n",
       "    .dataframe tbody tr th:only-of-type {\n",
       "        vertical-align: middle;\n",
       "    }\n",
       "\n",
       "    .dataframe tbody tr th {\n",
       "        vertical-align: top;\n",
       "    }\n",
       "\n",
       "    .dataframe thead th {\n",
       "        text-align: right;\n",
       "    }\n",
       "</style>\n",
       "<table border=\"1\" class=\"dataframe\">\n",
       "  <thead>\n",
       "    <tr style=\"text-align: right;\">\n",
       "      <th></th>\n",
       "      <th>califa_name</th>\n",
       "      <th>id</th>\n",
       "      <th>ra_J2000</th>\n",
       "      <th>dec_J200</th>\n",
       "      <th>redshift</th>\n",
       "      <th>log(Mass/Msun)_ip</th>\n",
       "      <th>error_mm_ip</th>\n",
       "      <th>log(SFR/Msun/yr)_ip</th>\n",
       "      <th>error_sfr</th>\n",
       "      <th>log(age/yr)_ssp_avg</th>\n",
       "      <th>...</th>\n",
       "      <th>log(age/yr)_ssp_er</th>\n",
       "      <th>error_ay_er</th>\n",
       "      <th>[Z/H]_ssp_er</th>\n",
       "      <th>error_zh_er</th>\n",
       "      <th>av_ssp_er</th>\n",
       "      <th>error_spp</th>\n",
       "      <th>12+log(O/H)_O3N2_er</th>\n",
       "      <th>error_oh_er</th>\n",
       "      <th>av_gas(mag)_er</th>\n",
       "      <th>error_mag</th>\n",
       "    </tr>\n",
       "  </thead>\n",
       "  <tbody>\n",
       "    <tr>\n",
       "      <th>0</th>\n",
       "      <td>IC5376</td>\n",
       "      <td>001</td>\n",
       "      <td>00:01:19.77</td>\n",
       "      <td>+34:31:32.52</td>\n",
       "      <td>0.0166</td>\n",
       "      <td>10.65</td>\n",
       "      <td>0.10</td>\n",
       "      <td>0.006</td>\n",
       "      <td>0.105</td>\n",
       "      <td>8.99</td>\n",
       "      <td>...</td>\n",
       "      <td>9.37</td>\n",
       "      <td>0.50</td>\n",
       "      <td>-0.44</td>\n",
       "      <td>0.13</td>\n",
       "      <td>0.48</td>\n",
       "      <td>0.11</td>\n",
       "      <td>8.53</td>\n",
       "      <td>0.04</td>\n",
       "      <td>1.34</td>\n",
       "      <td>0.21</td>\n",
       "    </tr>\n",
       "    <tr>\n",
       "      <th>1</th>\n",
       "      <td>UGC00005</td>\n",
       "      <td>002</td>\n",
       "      <td>00:03:05.63</td>\n",
       "      <td>-01:54:49.67</td>\n",
       "      <td>0.0240</td>\n",
       "      <td>11.16</td>\n",
       "      <td>0.08</td>\n",
       "      <td>0.867</td>\n",
       "      <td>0.066</td>\n",
       "      <td>8.97</td>\n",
       "      <td>...</td>\n",
       "      <td>9.18</td>\n",
       "      <td>0.28</td>\n",
       "      <td>-0.37</td>\n",
       "      <td>0.11</td>\n",
       "      <td>0.29</td>\n",
       "      <td>0.09</td>\n",
       "      <td>8.57</td>\n",
       "      <td>0.04</td>\n",
       "      <td>1.28</td>\n",
       "      <td>0.18</td>\n",
       "    </tr>\n",
       "    <tr>\n",
       "      <th>2</th>\n",
       "      <td>NGC7819</td>\n",
       "      <td>003</td>\n",
       "      <td>00:04:24.50</td>\n",
       "      <td>+31:28:19.20</td>\n",
       "      <td>0.0165</td>\n",
       "      <td>10.61</td>\n",
       "      <td>0.08</td>\n",
       "      <td>0.412</td>\n",
       "      <td>0.067</td>\n",
       "      <td>8.68</td>\n",
       "      <td>...</td>\n",
       "      <td>8.81</td>\n",
       "      <td>0.44</td>\n",
       "      <td>-0.28</td>\n",
       "      <td>0.14</td>\n",
       "      <td>0.06</td>\n",
       "      <td>0.06</td>\n",
       "      <td>8.47</td>\n",
       "      <td>0.07</td>\n",
       "      <td>0.82</td>\n",
       "      <td>0.17</td>\n",
       "    </tr>\n",
       "    <tr>\n",
       "      <th>3</th>\n",
       "      <td>IC1528</td>\n",
       "      <td>005</td>\n",
       "      <td>00:05:05.37</td>\n",
       "      <td>-07:05:36.23</td>\n",
       "      <td>0.0125</td>\n",
       "      <td>10.54</td>\n",
       "      <td>0.11</td>\n",
       "      <td>0.197</td>\n",
       "      <td>0.064</td>\n",
       "      <td>8.75</td>\n",
       "      <td>...</td>\n",
       "      <td>9.03</td>\n",
       "      <td>0.31</td>\n",
       "      <td>-0.41</td>\n",
       "      <td>0.14</td>\n",
       "      <td>0.19</td>\n",
       "      <td>0.10</td>\n",
       "      <td>8.51</td>\n",
       "      <td>0.04</td>\n",
       "      <td>0.77</td>\n",
       "      <td>0.14</td>\n",
       "    </tr>\n",
       "    <tr>\n",
       "      <th>4</th>\n",
       "      <td>UGC00036</td>\n",
       "      <td>007</td>\n",
       "      <td>00:05:13.87</td>\n",
       "      <td>+06:46:19.20</td>\n",
       "      <td>0.0208</td>\n",
       "      <td>11.06</td>\n",
       "      <td>0.09</td>\n",
       "      <td>0.186</td>\n",
       "      <td>0.134</td>\n",
       "      <td>9.42</td>\n",
       "      <td>...</td>\n",
       "      <td>9.56</td>\n",
       "      <td>0.44</td>\n",
       "      <td>-0.24</td>\n",
       "      <td>0.15</td>\n",
       "      <td>0.10</td>\n",
       "      <td>0.06</td>\n",
       "      <td>8.53</td>\n",
       "      <td>0.05</td>\n",
       "      <td>1.22</td>\n",
       "      <td>0.25</td>\n",
       "    </tr>\n",
       "  </tbody>\n",
       "</table>\n",
       "<p>5 rows × 29 columns</p>\n",
       "</div>"
      ],
      "text/plain": [
       "  califa_name   id     ra_J2000      dec_J200  redshift  log(Mass/Msun)_ip  \\\n",
       "0      IC5376  001  00:01:19.77  +34:31:32.52    0.0166              10.65   \n",
       "1    UGC00005  002  00:03:05.63  -01:54:49.67    0.0240              11.16   \n",
       "2     NGC7819  003  00:04:24.50  +31:28:19.20    0.0165              10.61   \n",
       "3      IC1528  005  00:05:05.37  -07:05:36.23    0.0125              10.54   \n",
       "4    UGC00036  007  00:05:13.87  +06:46:19.20    0.0208              11.06   \n",
       "\n",
       "   error_mm_ip  log(SFR/Msun/yr)_ip  error_sfr  log(age/yr)_ssp_avg  ...  \\\n",
       "0         0.10                0.006      0.105                 8.99  ...   \n",
       "1         0.08                0.867      0.066                 8.97  ...   \n",
       "2         0.08                0.412      0.067                 8.68  ...   \n",
       "3         0.11                0.197      0.064                 8.75  ...   \n",
       "4         0.09                0.186      0.134                 9.42  ...   \n",
       "\n",
       "   log(age/yr)_ssp_er  error_ay_er  [Z/H]_ssp_er  error_zh_er  av_ssp_er  \\\n",
       "0                9.37         0.50         -0.44         0.13       0.48   \n",
       "1                9.18         0.28         -0.37         0.11       0.29   \n",
       "2                8.81         0.44         -0.28         0.14       0.06   \n",
       "3                9.03         0.31         -0.41         0.14       0.19   \n",
       "4                9.56         0.44         -0.24         0.15       0.10   \n",
       "\n",
       "   error_spp  12+log(O/H)_O3N2_er  error_oh_er  av_gas(mag)_er  error_mag  \n",
       "0       0.11                 8.53         0.04            1.34       0.21  \n",
       "1       0.09                 8.57         0.04            1.28       0.18  \n",
       "2       0.06                 8.47         0.07            0.82       0.17  \n",
       "3       0.10                 8.51         0.04            0.77       0.14  \n",
       "4       0.06                 8.53         0.05            1.22       0.25  \n",
       "\n",
       "[5 rows x 29 columns]"
      ]
     },
     "execution_count": 15,
     "metadata": {},
     "output_type": "execute_result"
    }
   ],
   "source": [
    "df.head()"
   ]
  },
  {
   "cell_type": "markdown",
   "id": "8341d287",
   "metadata": {},
   "source": [
    "## 3. Save the dataset"
   ]
  },
  {
   "cell_type": "code",
   "execution_count": null,
   "id": "0bc105ba",
   "metadata": {},
   "outputs": [],
   "source": [
    "path = '../data/pipe_full_dataset.csv'"
   ]
  },
  {
   "cell_type": "code",
   "execution_count": null,
   "id": "d730c4c2",
   "metadata": {},
   "outputs": [],
   "source": [
    "# save the merged dataset to a given path\n",
    "# df is the merged dataframe in the 2.1 section\n",
    "df.dump_csv(path)"
   ]
  },
  {
   "cell_type": "code",
   "execution_count": null,
   "id": "e69af74d",
   "metadata": {},
   "outputs": [],
   "source": [
    "# load an already pre-worked dataset\n",
    "df = pd.read_csv(path)"
   ]
  },
  {
   "cell_type": "markdown",
   "id": "664693fa",
   "metadata": {},
   "source": [
    "## 4. Data Analysis"
   ]
  },
  {
   "cell_type": "code",
   "execution_count": 26,
   "id": "a6769628",
   "metadata": {},
   "outputs": [
    {
     "data": {
      "text/plain": [
       "<AxesSubplot:xlabel='redshift', ylabel='Count'>"
      ]
     },
     "execution_count": 26,
     "metadata": {},
     "output_type": "execute_result"
    },
    {
     "data": {
      "image/png": "[encoded data removed]",
      "text/plain": [
       "<Figure size 1080x504 with 6 Axes>"
      ]
     },
     "metadata": {},
     "output_type": "display_data"
    }
   ],
   "source": [
    "sns.set()\n",
    "fig, axs = plt.subplots(nrows=3, ncols=2, figsize=(15, 7))\n",
    "fig.suptitle('Integrated Properties features', fontsize=18)\n",
    "\n",
    "sns.histplot(data=df, x='ra_J2000', kde=True, ax=axs[0,0], bins='scott')\n",
    "sns.histplot(data=df, x='dec_J200', kde=True, ax=axs[0,1], bins='scott')\n",
    "sns.histplot(data=df, x='log(Mass/Msun)_ip', kde=True, ax=axs[1,0], bins='scott')\n",
    "sns.histplot(data=df, x='log(SFR/Msun/yr)_ip', kde=True, ax=axs[1,1], bins='scott')\n",
    "sns.histplot(data=df, x='redshift', kde=True, ax=axs[2,0], bins='scott')"
   ]
  },
  {
   "cell_type": "code",
   "execution_count": 16,
   "id": "d6476249",
   "metadata": {},
   "outputs": [
    {
     "data": {
      "text/plain": [
       "<AxesSubplot:xlabel='av_gas_mag_avg', ylabel='Count'>"
      ]
     },
     "execution_count": 16,
     "metadata": {},
     "output_type": "execute_result"
    },
    {
     "data": {
      "image/png": "[encoded data removed]",
      "text/plain": [
       "<Figure size 1080x504 with 6 Axes>"
      ]
     },
     "metadata": {},
     "output_type": "display_data"
    }
   ],
   "source": [
    "sns.set()\n",
    "fig, axs = plt.subplots(nrows=3, ncols=2, figsize=(15, 7))\n",
    "fig.suptitle('Average Properties features', fontsize=18)\n",
    "\n",
    "sns.histplot(data=df, x='[Z/H]_ssp_avg', kde=True, ax=axs[0,0], bins='scott')\n",
    "sns.histplot(data=df, x='av_ssp_avg', kde=True, ax=axs[0,1], bins='scott')\n",
    "sns.histplot(data=df, x='12+log(O/H)_O3N2_avg', kde=True, ax=axs[1,0], bins='scott')\n",
    "sns.histplot(data=df, x='log(age/yr)_ssp_avg', kde=True, ax=axs[1,1], bins='scott')\n",
    "sns.histplot(data=df, x='av_gas_mag_avg', kde=True, ax=axs[2,0], bins='scott')"
   ]
  },
  {
   "cell_type": "code",
   "execution_count": 26,
   "id": "351ec88e",
   "metadata": {},
   "outputs": [
    {
     "name": "stderr",
     "output_type": "stream",
     "text": [
      "/var/folders/5s/vdx10l697jb5phtp2_z31l8m0000gn/T/ipykernel_1309/3650419527.py:12: UserWarning: FixedFormatter should only be used together with FixedLocator\n",
      "  axs[2,0].set_xticklabels(lbs, rotation = 30)\n"
     ]
    },
    {
     "data": {
      "text/plain": [
       "[Text(0, 0, ''),\n",
       " Text(1, 0, ''),\n",
       " Text(2, 0, ''),\n",
       " Text(3, 0, ''),\n",
       " Text(4, 0, ''),\n",
       " Text(5, 0, ''),\n",
       " Text(6, 0, ''),\n",
       " Text(7, 0, ''),\n",
       " Text(8, 0, ''),\n",
       " Text(9, 0, ''),\n",
       " Text(10, 0, ''),\n",
       " Text(11, 0, ''),\n",
       " Text(12, 0, ''),\n",
       " Text(13, 0, ''),\n",
       " Text(14, 0, ''),\n",
       " Text(15, 0, ''),\n",
       " Text(16, 0, ''),\n",
       " Text(17, 0, ''),\n",
       " Text(18, 0, ''),\n",
       " Text(19, 0, ''),\n",
       " Text(20, 0, ''),\n",
       " Text(21, 0, ''),\n",
       " Text(22, 0, ''),\n",
       " Text(23, 0, ''),\n",
       " Text(24, 0, ''),\n",
       " Text(25, 0, ''),\n",
       " Text(26, 0, ''),\n",
       " Text(27, 0, ''),\n",
       " Text(28, 0, ''),\n",
       " Text(29, 0, ''),\n",
       " Text(30, 0, ''),\n",
       " Text(31, 0, ''),\n",
       " Text(32, 0, ''),\n",
       " Text(33, 0, ''),\n",
       " Text(34, 0, ''),\n",
       " Text(35, 0, ''),\n",
       " Text(36, 0, ''),\n",
       " Text(37, 0, ''),\n",
       " Text(38, 0, ''),\n",
       " Text(39, 0, ''),\n",
       " Text(40, 0, ''),\n",
       " Text(41, 0, ''),\n",
       " Text(42, 0, ''),\n",
       " Text(43, 0, ''),\n",
       " Text(44, 0, ''),\n",
       " Text(45, 0, ''),\n",
       " Text(46, 0, ''),\n",
       " Text(47, 0, ''),\n",
       " Text(48, 0, ''),\n",
       " Text(49, 0, ''),\n",
       " Text(50, 0, ''),\n",
       " Text(51, 0, ''),\n",
       " Text(52, 0, ''),\n",
       " Text(53, 0, ''),\n",
       " Text(54, 0, ''),\n",
       " Text(55, 0, ''),\n",
       " Text(56, 0, ''),\n",
       " Text(57, 0, ''),\n",
       " Text(58, 0, ''),\n",
       " Text(59, 0, ''),\n",
       " Text(60, 0, ''),\n",
       " Text(61, 0, ''),\n",
       " Text(62, 0, ''),\n",
       " Text(63, 0, ''),\n",
       " Text(64, 0, ''),\n",
       " Text(65, 0, ''),\n",
       " Text(66, 0, ''),\n",
       " Text(67, 0, ''),\n",
       " Text(68, 0, ''),\n",
       " Text(69, 0, '')]"
      ]
     },
     "execution_count": 26,
     "metadata": {},
     "output_type": "execute_result"
    },
    {
     "data": {
      "image/png": "[encoded data removed]",
      "text/plain": [
       "<Figure size 1080x504 with 6 Axes>"
      ]
     },
     "metadata": {},
     "output_type": "display_data"
    }
   ],
   "source": [
    "sns.set()\n",
    "fig, axs = plt.subplots(nrows=3, ncols=2, figsize=(15, 7))\n",
    "fig.suptitle('Efective Radius features', fontsize=18)\n",
    "\n",
    "sns.histplot(data=df, x='[Z/H]_ssp_er', kde=True, ax=axs[0,0], bins='scott')\n",
    "sns.histplot(data=df, x='av_gas(mag)_er', kde=True, ax=axs[0,1], bins='scott')\n",
    "sns.histplot(data=df, x='12+log(O/H)_O3N2_er', kde=True, ax=axs[1,0], bins='scott')\n",
    "sns.histplot(data=df, x='log(age/yr)_ssp_er', kde=True, ax=axs[1,1], bins='scott')\n",
    "sns.histplot(data=df, x='av_ssp_er', kde=True, ax=axs[2,0], bins='scott')\n",
    "\n",
    "lbs = axs[2,0].get_xticklabels()\n",
    "axs[2,0].set_xticklabels(lbs, rotation = 30)"
   ]
  }
 ],
 "metadata": {
  "kernelspec": {
   "display_name": "Python 3 (ipykernel)",
   "language": "python",
   "name": "python3"
  },
  "language_info": {
   "codemirror_mode": {
    "name": "ipython",
    "version": 3
   },
   "file_extension": ".py",
   "mimetype": "text/x-python",
   "name": "python",
   "nbconvert_exporter": "python",
   "pygments_lexer": "ipython3",
   "version": "3.8.2"
  }
 },
 "nbformat": 4,
 "nbformat_minor": 5
}
